{
  "nbformat": 4,
  "nbformat_minor": 0,
  "metadata": {
    "colab": {
      "name": "Hypothesis testing",
      "provenance": [],
      "collapsed_sections": []
    },
    "kernelspec": {
      "name": "python3",
      "display_name": "Python 3"
    },
    "language_info": {
      "name": "python"
    }
  },
  "cells": [
    {
      "cell_type": "markdown",
      "metadata": {
        "id": "PVLeRR7O8lGW"
      },
      "source": [
        "# Hypothesis testing Assignment\n",
        "1) A F&B manager wants to determine whether there is any significant difference in the diameter of the cutlet between two units. A randomly selected sample of cutlets was collected from both units and measured? Analyze the data and draw inferences at 5% significance level. Please state the assumptions and tests that you carried out to check validity of the assumptions.\n",
        "\n",
        "Minitab File : **Cutlets.mtw**\n"
      ]
    },
    {
      "cell_type": "code",
      "metadata": {
        "id": "fnLpdHAw-06A"
      },
      "source": [
        "import pandas as pd\n",
        "from scipy import stats"
      ],
      "execution_count": 3,
      "outputs": []
    },
    {
      "cell_type": "code",
      "metadata": {
        "id": "0HzTiiCJ-08H"
      },
      "source": [
        "data=pd.read_csv(\"/content/drive/MyDrive/Colab Notebooks/Cutlets (1).csv\")"
      ],
      "execution_count": 4,
      "outputs": []
    },
    {
      "cell_type": "code",
      "metadata": {
        "colab": {
          "base_uri": "https://localhost:8080/",
          "height": 204
        },
        "id": "gPhB7OLz-0-l",
        "outputId": "5fe47c0a-dcf7-481d-daa1-d0e7b351af5e"
      },
      "source": [
        "data.head()"
      ],
      "execution_count": 5,
      "outputs": [
        {
          "output_type": "execute_result",
          "data": {
            "text/html": [
              "<div>\n",
              "<style scoped>\n",
              "    .dataframe tbody tr th:only-of-type {\n",
              "        vertical-align: middle;\n",
              "    }\n",
              "\n",
              "    .dataframe tbody tr th {\n",
              "        vertical-align: top;\n",
              "    }\n",
              "\n",
              "    .dataframe thead th {\n",
              "        text-align: right;\n",
              "    }\n",
              "</style>\n",
              "<table border=\"1\" class=\"dataframe\">\n",
              "  <thead>\n",
              "    <tr style=\"text-align: right;\">\n",
              "      <th></th>\n",
              "      <th>Unit A</th>\n",
              "      <th>Unit B</th>\n",
              "    </tr>\n",
              "  </thead>\n",
              "  <tbody>\n",
              "    <tr>\n",
              "      <th>0</th>\n",
              "      <td>6.8090</td>\n",
              "      <td>6.7703</td>\n",
              "    </tr>\n",
              "    <tr>\n",
              "      <th>1</th>\n",
              "      <td>6.4376</td>\n",
              "      <td>7.5093</td>\n",
              "    </tr>\n",
              "    <tr>\n",
              "      <th>2</th>\n",
              "      <td>6.9157</td>\n",
              "      <td>6.7300</td>\n",
              "    </tr>\n",
              "    <tr>\n",
              "      <th>3</th>\n",
              "      <td>7.3012</td>\n",
              "      <td>6.7878</td>\n",
              "    </tr>\n",
              "    <tr>\n",
              "      <th>4</th>\n",
              "      <td>7.4488</td>\n",
              "      <td>7.1522</td>\n",
              "    </tr>\n",
              "  </tbody>\n",
              "</table>\n",
              "</div>"
            ],
            "text/plain": [
              "   Unit A  Unit B\n",
              "0  6.8090  6.7703\n",
              "1  6.4376  7.5093\n",
              "2  6.9157  6.7300\n",
              "3  7.3012  6.7878\n",
              "4  7.4488  7.1522"
            ]
          },
          "metadata": {},
          "execution_count": 5
        }
      ]
    },
    {
      "cell_type": "code",
      "metadata": {
        "id": "dEK2T50D-1CV"
      },
      "source": [
        "data1=data[\"Unit A\"]"
      ],
      "execution_count": 6,
      "outputs": []
    },
    {
      "cell_type": "code",
      "metadata": {
        "id": "1ZtxEZTY_Sd9"
      },
      "source": [
        "data2=data[\"Unit B\"]"
      ],
      "execution_count": 7,
      "outputs": []
    },
    {
      "cell_type": "code",
      "metadata": {
        "colab": {
          "base_uri": "https://localhost:8080/"
        },
        "id": "p3E-91O8_SR7",
        "outputId": "c36d6063-e626-48b2-ed71-9b9436d17b72"
      },
      "source": [
        "stats.ttest_ind(data1,data2)"
      ],
      "execution_count": 8,
      "outputs": [
        {
          "output_type": "execute_result",
          "data": {
            "text/plain": [
              "Ttest_indResult(statistic=0.7228688704678061, pvalue=0.4722394724599501)"
            ]
          },
          "metadata": {},
          "execution_count": 8
        }
      ]
    },
    {
      "cell_type": "markdown",
      "metadata": {
        "id": "0UlGt39a_iZL"
      },
      "source": [
        "Here P value is 0.4722. So the P value is greater than the significance level, so it is failed to\n",
        "reject null hypothesis. And we concluded that there is no significant difference in the diameter\n",
        "of the cutlet between two units"
      ]
    },
    {
      "cell_type": "markdown",
      "metadata": {
        "id": "soVGLZuM_iH8"
      },
      "source": [
        "# 2) A hospital wants to dettermine whether there is any difference in the average Turn Around time(TAT) of reports of the laboratories on their preffered list. They collected a random sample and recorded TAT for reports of 4 laboratories. TAT is defined as sample collected to report dispatch.\n",
        "\n",
        "\n",
        "Analyze the data and determine whether there is any difference in average TAT among the difference laboratories at 5% significance level.\n",
        "\n",
        "Minitab : LabTAT.mtw"
      ]
    },
    {
      "cell_type": "code",
      "metadata": {
        "id": "YyNOPU_OA1GE"
      },
      "source": [
        "lab=pd.read_csv(\"/content/drive/MyDrive/Colab Notebooks/LabTAT (1).csv\")"
      ],
      "execution_count": 9,
      "outputs": []
    },
    {
      "cell_type": "code",
      "metadata": {
        "colab": {
          "base_uri": "https://localhost:8080/",
          "height": 204
        },
        "id": "oSwVSvVOBCbh",
        "outputId": "44a0f54e-b9ba-4703-b5c9-b4eb517cea58"
      },
      "source": [
        "lab.head()"
      ],
      "execution_count": 10,
      "outputs": [
        {
          "output_type": "execute_result",
          "data": {
            "text/html": [
              "<div>\n",
              "<style scoped>\n",
              "    .dataframe tbody tr th:only-of-type {\n",
              "        vertical-align: middle;\n",
              "    }\n",
              "\n",
              "    .dataframe tbody tr th {\n",
              "        vertical-align: top;\n",
              "    }\n",
              "\n",
              "    .dataframe thead th {\n",
              "        text-align: right;\n",
              "    }\n",
              "</style>\n",
              "<table border=\"1\" class=\"dataframe\">\n",
              "  <thead>\n",
              "    <tr style=\"text-align: right;\">\n",
              "      <th></th>\n",
              "      <th>Laboratory 1</th>\n",
              "      <th>Laboratory 2</th>\n",
              "      <th>Laboratory 3</th>\n",
              "      <th>Laboratory 4</th>\n",
              "    </tr>\n",
              "  </thead>\n",
              "  <tbody>\n",
              "    <tr>\n",
              "      <th>0</th>\n",
              "      <td>185.35</td>\n",
              "      <td>165.53</td>\n",
              "      <td>176.70</td>\n",
              "      <td>166.13</td>\n",
              "    </tr>\n",
              "    <tr>\n",
              "      <th>1</th>\n",
              "      <td>170.49</td>\n",
              "      <td>185.91</td>\n",
              "      <td>198.45</td>\n",
              "      <td>160.79</td>\n",
              "    </tr>\n",
              "    <tr>\n",
              "      <th>2</th>\n",
              "      <td>192.77</td>\n",
              "      <td>194.92</td>\n",
              "      <td>201.23</td>\n",
              "      <td>185.18</td>\n",
              "    </tr>\n",
              "    <tr>\n",
              "      <th>3</th>\n",
              "      <td>177.33</td>\n",
              "      <td>183.00</td>\n",
              "      <td>199.61</td>\n",
              "      <td>176.42</td>\n",
              "    </tr>\n",
              "    <tr>\n",
              "      <th>4</th>\n",
              "      <td>193.41</td>\n",
              "      <td>169.57</td>\n",
              "      <td>204.63</td>\n",
              "      <td>152.60</td>\n",
              "    </tr>\n",
              "  </tbody>\n",
              "</table>\n",
              "</div>"
            ],
            "text/plain": [
              "   Laboratory 1  Laboratory 2  Laboratory 3  Laboratory 4\n",
              "0        185.35        165.53        176.70        166.13\n",
              "1        170.49        185.91        198.45        160.79\n",
              "2        192.77        194.92        201.23        185.18\n",
              "3        177.33        183.00        199.61        176.42\n",
              "4        193.41        169.57        204.63        152.60"
            ]
          },
          "metadata": {},
          "execution_count": 10
        }
      ]
    },
    {
      "cell_type": "code",
      "metadata": {
        "colab": {
          "base_uri": "https://localhost:8080/"
        },
        "id": "TPYVlPxUA02F",
        "outputId": "a03b056f-70ab-48b3-ee5c-51c614cdf536"
      },
      "source": [
        "stats.f_oneway(lab.iloc[:,0],lab.iloc[:,1],lab.iloc[:,2],lab.iloc[:,3])"
      ],
      "execution_count": 11,
      "outputs": [
        {
          "output_type": "execute_result",
          "data": {
            "text/plain": [
              "F_onewayResult(statistic=118.70421654401437, pvalue=2.1156708949992414e-57)"
            ]
          },
          "metadata": {},
          "execution_count": 11
        }
      ]
    },
    {
      "cell_type": "markdown",
      "metadata": {
        "id": "RJ0jR3QUgmy0"
      },
      "source": [
        "P value=2.1156700949992414e-57, which is less than the significance level. So we have\n",
        "to reject the null hypothesis. So we concluded that there is difference in average TAT\n",
        "among the different laboratories."
      ]
    },
    {
      "cell_type": "markdown",
      "metadata": {
        "id": "XATtUPsNhNI2"
      },
      "source": [
        "3)Sales of products in four different regions is tabulated for males and females.\n",
        "Find if male-female buyer rations are similar across regions.\n"
      ]
    },
    {
      "cell_type": "code",
      "metadata": {
        "id": "BRxxO5DyiLI7"
      },
      "source": [
        "data=pd.read_csv(\"/content/drive/MyDrive/Colab Notebooks/BuyerRatio.csv\")"
      ],
      "execution_count": 13,
      "outputs": []
    },
    {
      "cell_type": "markdown",
      "metadata": {
        "id": "GVgBl0Q0iBct"
      },
      "source": [
        "ANS: null hypothesis(h0):Data are normal alternate hypothesis(ha):data are not normal if p-value is > 0.05 => Accept null hypothesis if p-value is < 0.05 =>Reject null hypothesis alternate hypothesis is used when we take action or p-value is less than 0.05 As p-value is 0.227 > 0.05 P high Ho fly => Accept Ho,hence accept null hypothesis(H0) means data are normal 5)Normality test for West\n",
        "\n",
        "As p-value is 0.227 > 0.05 P high Ho fly => Accept Ho,hence accept null hypothesis(H0) means data are normal 6)Normality test for North\n",
        "\n",
        "As p-value is 0.227 > 0.05 P high Ho fly => Accept Ho,hence accept null hypothesis(H0) means data are normal"
      ]
    },
    {
      "cell_type": "markdown",
      "metadata": {
        "id": "LplxiT2Kbskz"
      },
      "source": [
        "4)TeleCall uses 4 centers around the globe to process customer\n",
        "order forms. They audit a certain % of the customer order\n",
        "forms. Any error in order form renders it defective and has to\n",
        "be reworked before processing. The manager wants to check\n",
        "whether the defective % varies by centre. Please analyze the\n",
        "data at 5% significance level and help the manager draw\n",
        "appropriate inferences\n",
        "Minitab File: CustomerOrderForm.mtw\n"
      ]
    },
    {
      "cell_type": "code",
      "metadata": {
        "id": "mOhrJZCIb5-X"
      },
      "source": [
        "data=pd.read_csv(\"/content/drive/MyDrive/Colab Notebooks/Costomer+OrderForm.csv\")"
      ],
      "execution_count": 12,
      "outputs": []
    },
    {
      "cell_type": "markdown",
      "metadata": {
        "id": "WfWkYmh1ezHa"
      },
      "source": [
        "ANS: Assume Null Hypothesis as Ho: Independence of categorical variables (customer order forms defective % does not varies by centre) Thus, Alternative hypothesis as Ha Dependence of categorical variables (customer order forms defective % varies by centre)\n",
        "\n",
        "Inference: As (p_value = 0.2771) > (α = 0.05); Accept Null Hypthesis i.e. Independence of categorical variables Thus, customer order forms defective % does not varies by centre."
      ]
    },
    {
      "cell_type": "markdown",
      "metadata": {
        "id": "QuOTddQYihHp"
      },
      "source": [
        "Fantaloons Sales managers commented that % of males versus females walking in to the store differ based on day of the week. Analyze the data and determine whether there is evidence at 5 % significance level to support this hypothesis. Minitab File: Fantaloons.mtw"
      ]
    },
    {
      "cell_type": "markdown",
      "metadata": {
        "id": "pQrRWKcQigzK"
      },
      "source": [
        "ANS: 2-Proprotion Test H0:Proportion of male vs female in weekdays = Proportion of male vs female in weekends Ha:Proportion of male vs female in weekdays NOT = Proportion of male vs female in weekends\n",
        "\n",
        "P-value is 0.968 > 0.05=>P high Ho fly => Accept Ho Hence Proportion of male vs female in weekdays = Proportion of male vs female in weekends"
      ]
    }
  ]
}